{
 "cells": [
  {
   "attachments": {},
   "cell_type": "markdown",
   "metadata": {},
   "source": [
    "Este notebook tem como objetivo:\n",
    "\n",
    "0. Encontrar as matrizes triangulares L e U, onde L é a triangular inferior e U a triangular superior\n",
    "1. Implementar o método da decomposição LU\n",
    "2. Implementar o método que resolve o sistema LUx = b\n",
    "3. Utilzar os métodos acima para a resolução de sistemas lineares"
   ]
  },
  {
   "attachments": {},
   "cell_type": "markdown",
   "metadata": {},
   "source": [
    "0. Triangular Superior e Triangular Inferior"
   ]
  },
  {
   "cell_type": "code",
   "execution_count": 1,
   "metadata": {},
   "outputs": [],
   "source": [
    "def triangular_sup(A, b):\n",
    "    n = len(b)\n",
    "    x = [0]*n\n",
    "    x[n-1] = b[n-1]/A[n-1][n-1]\n",
    "\n",
    "    for i in list(range(n-1,0,-1)):\n",
    "        s = 0\n",
    "        for j in list(range(i+1,n+1,1)):\n",
    "            s = s + A[i-1][j-1]*x[j-1]\n",
    "\n",
    "        x[i-1] = (b[i-1]-s)/(A[i-1][i-1]) \n",
    "\n",
    "    return x\n",
    "\n",
    "def triangular_inf(A, b):\n",
    "    n = len(b)\n",
    "    x = [0]*n\n",
    "    x[0] = b[0]/A[0][0]\n",
    "\n",
    "    for i in list(range(1,n,1)):\n",
    "        s = 0\n",
    "        for j in list(range(0,i,1)):\n",
    "            s = s + A[i][j]*x[j]\n",
    "\n",
    "        x[i] = (b[i]-s)/(A[i][i]) \n",
    "\n",
    "    return x"
   ]
  },
  {
   "attachments": {},
   "cell_type": "markdown",
   "metadata": {},
   "source": [
    "1. Decomposição LU"
   ]
  },
  {
   "cell_type": "code",
   "execution_count": 2,
   "metadata": {},
   "outputs": [],
   "source": [
    "# cria uma matriz identidade de ordem n\n",
    "def matrix_identity(n):\n",
    "    m = []\n",
    "    for i in range(n):\n",
    "        row = [0]*n\n",
    "        row[i] = 1\n",
    "        m.append(row)\n",
    "    return m\n",
    "\n",
    "def matrix_zeros(n):\n",
    "    m = [[0 for i in range(n)] for j in range(n)]\n",
    "    return m\n",
    "    "
   ]
  },
  {
   "cell_type": "code",
   "execution_count": 3,
   "metadata": {},
   "outputs": [],
   "source": [
    "# decompõe a matriz A em produto de duas matrizes L e U. Onde L é uma triangular inferior\n",
    "# e U é uma triangular superior.\n",
    "def lu_decomposition(A):\n",
    "    n = len(A)\n",
    "    # inicializa a matriz L\n",
    "    L = matrix_identity(n)    \n",
    "\n",
    "    for k in range(0,n-1):\n",
    "        # para cada linha i, calcula o fator m\n",
    "        for i in range(k+1, n):\n",
    "            m = - A[i][k]/A[k][k]\n",
    "            L[i][k] = -m\n",
    "            # atualiza linha i\n",
    "            for j in range(k+1, n):\n",
    "                A[i][j] = m * A[k][j] + A[i][j]\n",
    "\n",
    "            # zera o elemento de A[i][k]\n",
    "            A[i][k] = 0\n",
    "\n",
    "    return (L,A)        "
   ]
  },
  {
   "cell_type": "code",
   "execution_count": 4,
   "metadata": {},
   "outputs": [],
   "source": [
    "# formatação da matriz\n",
    "def matrix_format(M):\n",
    "    m = len(M) # numero de linhas\n",
    "    n = len(M[0]) # numero de colunas\n",
    "    s = \"\"\n",
    "\n",
    "    for i in range(m):\n",
    "        for j in range(n):\n",
    "            s += \"%9.1f\" % M[i][j]\n",
    "        s += \"\\n\"\n",
    "    return s\n"
   ]
  },
  {
   "cell_type": "code",
   "execution_count": 5,
   "metadata": {},
   "outputs": [
    {
     "name": "stdout",
     "output_type": "stream",
     "text": [
      "L: \n",
      "      1.0      0.0      0.0\n",
      "      0.6      1.0      0.0\n",
      "      0.2     -3.0      1.0\n",
      "\n",
      "U: \n",
      "      5.0      2.0      1.0\n",
      "      0.0     -0.2      3.4\n",
      "      0.0      0.0     13.0\n",
      "\n"
     ]
    }
   ],
   "source": [
    "# decompondo a matriz A no produto de duas matrizes triangulares: L e U\n",
    "A = [[5,2,1],\n",
    "     [3,1,4],\n",
    "     [1,1,3]]\n",
    "(L,U) = lu_decomposition(A)\n",
    "    \n",
    "print(\"L: \\n%s\" % matrix_format(L))\n",
    "print(\"U: \\n%s\" % matrix_format(U))"
   ]
  },
  {
   "attachments": {},
   "cell_type": "markdown",
   "metadata": {},
   "source": [
    "2. Resolver sistema linear LUx = b"
   ]
  },
  {
   "cell_type": "code",
   "execution_count": 6,
   "metadata": {},
   "outputs": [],
   "source": [
    "def lux(L,U,b):\n",
    "    y = triangular_inf(L,b)\n",
    "    x = triangular_sup(U,y)\n",
    "    return x"
   ]
  },
  {
   "cell_type": "code",
   "execution_count": 7,
   "metadata": {},
   "outputs": [
    {
     "name": "stdout",
     "output_type": "stream",
     "text": [
      "L: \n",
      " [[1, 0, 0], [1.0, 1, 0], [-2.0, 4.0, 1]]\n",
      "U: \n",
      " [[1, 2, 0], [0, 1.0, 1.0], [0, 0, -3.0]]\n",
      "X: \n",
      " [1.0, 1.0, 1.0]\n"
     ]
    }
   ],
   "source": [
    "# # calculando LUx = b\n",
    "A = [[1,2,0],\n",
    "     [1,3,1],\n",
    "     [-2,0,1]]\n",
    "     \n",
    "b = [3,5,-1]\n",
    "(L,U) = lu_decomposition(A)\n",
    "print(\"L: \\n\",L)\n",
    "print(\"U: \\n\",U)\n",
    "x = lux(L,U,b)\n",
    "print(\"X: \\n\",x)"
   ]
  }
 ],
 "metadata": {
  "kernelspec": {
   "display_name": "Python 3",
   "language": "python",
   "name": "python3"
  },
  "language_info": {
   "codemirror_mode": {
    "name": "ipython",
    "version": 3
   },
   "file_extension": ".py",
   "mimetype": "text/x-python",
   "name": "python",
   "nbconvert_exporter": "python",
   "pygments_lexer": "ipython3",
   "version": "3.10.6"
  },
  "orig_nbformat": 4
 },
 "nbformat": 4,
 "nbformat_minor": 2
}
