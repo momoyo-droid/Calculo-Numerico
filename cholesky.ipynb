{
 "cells": [
  {
   "attachments": {},
   "cell_type": "markdown",
   "metadata": {},
   "source": [
    "Este notebook tem como objetivo aplicar o método de Cholesky para resolução de sistemas possíveis e determinados."
   ]
  },
  {
   "cell_type": "code",
   "execution_count": 13,
   "metadata": {},
   "outputs": [],
   "source": [
    "import math\n",
    "\n",
    "def cholesky(A):\n",
    "    n = len(A)\n",
    "    L = [[0 for i in range(n)]for j in range(n)]\n",
    "\n",
    "    for i in range(n): \n",
    "        for j in range(i+1):\n",
    "            S = sum(L[i][k] * L[j][k]\n",
    "                    for k in range(j))\n",
    "            if (i==j):\n",
    "                L[i][j] = math.sqrt(A[i][i] - S)\n",
    "            else:\n",
    "                L[i][j] = ((A[i][j] - S)/L[j][j])\n",
    "    return L"
   ]
  },
  {
   "cell_type": "code",
   "execution_count": 14,
   "metadata": {},
   "outputs": [
    {
     "name": "stdout",
     "output_type": "stream",
     "text": [
      "Matriz triangular inferior:\n",
      "\n",
      "[1.7320508075688772, 0, 0]\n",
      "[1.1547005383792517, 1.914854215512676, 0]\n",
      "[0.0, 0.5222329678670936, 1.651445647689541]\n"
     ]
    }
   ],
   "source": [
    "A = [[3,2,0],\n",
    "     [2,5,1],\n",
    "     [0,1,3]]\n",
    "L = cholesky(A)\n",
    "print(\"Matriz triangular inferior:\\n\")\n",
    "for i in range(len(L)):\n",
    "    print(L[i])"
   ]
  }
 ],
 "metadata": {
  "kernelspec": {
   "display_name": "Python 3",
   "language": "python",
   "name": "python3"
  },
  "language_info": {
   "codemirror_mode": {
    "name": "ipython",
    "version": 3
   },
   "file_extension": ".py",
   "mimetype": "text/x-python",
   "name": "python",
   "nbconvert_exporter": "python",
   "pygments_lexer": "ipython3",
   "version": "3.10.6"
  },
  "orig_nbformat": 4
 },
 "nbformat": 4,
 "nbformat_minor": 2
}
