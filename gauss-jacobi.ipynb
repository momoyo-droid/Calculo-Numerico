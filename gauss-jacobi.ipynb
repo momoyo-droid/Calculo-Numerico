{
 "cells": [
  {
   "attachments": {},
   "cell_type": "markdown",
   "metadata": {},
   "source": [
    "Implementação do Método de Gauss-Jacobi\n"
   ]
  },
  {
   "cell_type": "code",
   "execution_count": 32,
   "metadata": {},
   "outputs": [],
   "source": [
    "\"\"\"\n",
    "Calcula a norma entre dois vetores v e x\n",
    "\"\"\"\n",
    "def norma(v,x):\n",
    "    n = len(v)\n",
    "    maxNum = 0\n",
    "    maxDen = 0\n",
    "     \n",
    "    for i in range(n):\n",
    "        num = abs(v[i] - x[i])\n",
    "        if num > maxNum:\n",
    "            maxNum = num\n",
    "        den = abs(v[i])\n",
    "        if den > maxDen:\n",
    "            maxDen = den\n",
    "    \n",
    "    return maxNum/maxDen"
   ]
  },
  {
   "cell_type": "code",
   "execution_count": 33,
   "metadata": {},
   "outputs": [],
   "source": [
    "\"\"\" \n",
    "Resolve o sistema linear Ax = b utilizando o método de Gauss-Jacobi\n",
    "Critério de parada: Norma-infinito\n",
    "Saída: vetor x\n",
    "\"\"\"\n",
    "def gaussJacobi(A,b,epsilon,maxIterations):\n",
    "    n = len(A)\n",
    "    x = n*[0]\n",
    "    v = n*[0]\n",
    "\n",
    "    for i in range(n):\n",
    "        for j in range(n):\n",
    "            if i != j:\n",
    "                A[i][j] = A[i][j]/A[i][i]\n",
    "        b[i] = b[i]/A[i][i]\n",
    "        x[i] = b[i]\n",
    "    \n",
    "    for k in range(1,maxIterations+1):\n",
    "        for i in range(n):\n",
    "            S = 0\n",
    "            for j in range(n):\n",
    "                if i != j:\n",
    "                    S = S + A[i][j] * x[j]\n",
    "            v[i] = b[i] - S\n",
    "        \n",
    "        d = norma(v,x)\n",
    "        if d <= epsilon:\n",
    "            return v\n",
    "        x = v[:]"
   ]
  },
  {
   "cell_type": "code",
   "execution_count": 34,
   "metadata": {},
   "outputs": [
    {
     "name": "stdout",
     "output_type": "stream",
     "text": [
      "Solução Gauss-Jacobi\n",
      " [-0.15789473887400218, -2.7368421084357424, 2.4736842087104858]\n"
     ]
    }
   ],
   "source": [
    "A = [[-8,1,1],\n",
    "     [1,-5,1],\n",
    "     [1,1,4]]\n",
    "b = [1,16,7]\n",
    "maxIterations = 10000\n",
    "x = gaussJacobi(A,b,0.00000001,maxIterations)\n",
    "print(\"Solução Gauss-Jacobi\\n\",x)"
   ]
  },
  {
   "cell_type": "code",
   "execution_count": null,
   "metadata": {},
   "outputs": [],
   "source": []
  }
 ],
 "metadata": {
  "kernelspec": {
   "display_name": "Python 3",
   "language": "python",
   "name": "python3"
  },
  "language_info": {
   "codemirror_mode": {
    "name": "ipython",
    "version": 3
   },
   "file_extension": ".py",
   "mimetype": "text/x-python",
   "name": "python",
   "nbconvert_exporter": "python",
   "pygments_lexer": "ipython3",
   "version": "3.10.6"
  },
  "orig_nbformat": 4
 },
 "nbformat": 4,
 "nbformat_minor": 2
}
