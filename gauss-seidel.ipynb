{
 "cells": [
  {
   "attachments": {},
   "cell_type": "markdown",
   "metadata": {},
   "source": [
    "Implementação método de Gauss-Seidel"
   ]
  },
  {
   "cell_type": "code",
   "execution_count": 1,
   "metadata": {},
   "outputs": [],
   "source": [
    "import math"
   ]
  },
  {
   "cell_type": "code",
   "execution_count": 2,
   "metadata": {},
   "outputs": [],
   "source": [
    "def compare(x, xk, epsilon):\n",
    "    S = 0\n",
    "    zip_obj = zip(x,xk)\n",
    "\n",
    "    for i, j in zip_obj:\n",
    "        S = S + math.fabs(i-j)\n",
    "    \n",
    "    if S < epsilon:\n",
    "        return True\n",
    "    else:\n",
    "        return False"
   ]
  },
  {
   "cell_type": "code",
   "execution_count": 3,
   "metadata": {},
   "outputs": [],
   "source": [
    "def gaussSeidel(A,b, maxIterations, epsilon):\n",
    "    n = len(b)\n",
    "    flag = True\n",
    "    x = b.copy()\n",
    "\n",
    "    for i in list(range(1,n+1,1)):\n",
    "        if math.fabs(A[i-1][i-1] > 0.0):\n",
    "            x[i-1] = b[i-1]/A[i-1][i-1]\n",
    "        else:\n",
    "            flag = False\n",
    "            break\n",
    "    \n",
    "    if flag:\n",
    "        xk = x.copy()\n",
    "        nIteration = 0\n",
    "\n",
    "        while(nIteration < maxIterations):\n",
    "            nIteration = nIteration+1\n",
    "            for i in list(range(1,n+1,1)):\n",
    "                S = 0\n",
    "                for j in list(range(1,n+1,1)):\n",
    "                    if ((i-1) > (j-1)):\n",
    "                        S = S + A[i-1][j-1]*xk[j-1]\n",
    "                    elif ((i-1) < (j-1)):\n",
    "                        S = S + A[i-1][j-1]*x[j-1]\n",
    "                    \n",
    "                xk[i-1] = (1/A[i-1][i-1])*(b[i-1]-S)\n",
    "\n",
    "            if compare(x,xk,epsilon):\n",
    "                x = xk.copy()\n",
    "                break\n",
    "            x = xk.copy()\n",
    "        \n",
    "        return x"
   ]
  },
  {
   "cell_type": "code",
   "execution_count": 4,
   "metadata": {},
   "outputs": [
    {
     "name": "stdout",
     "output_type": "stream",
     "text": [
      "x =  [0.9999577430400001, -2.000046123328, 1.0000222883904002]\n"
     ]
    }
   ],
   "source": [
    "A = [[10, 2,  1],\n",
    "     [ 1, 5,  1],\n",
    "     [ 2, 3, 10]]\n",
    "\n",
    "b = [7, -8, 6]\n",
    "\n",
    "x = gaussSeidel(A,b,10,0.01)\n",
    "print(\"x = \",x)"
   ]
  }
 ],
 "metadata": {
  "kernelspec": {
   "display_name": "Python 3",
   "language": "python",
   "name": "python3"
  },
  "language_info": {
   "codemirror_mode": {
    "name": "ipython",
    "version": 3
   },
   "file_extension": ".py",
   "mimetype": "text/x-python",
   "name": "python",
   "nbconvert_exporter": "python",
   "pygments_lexer": "ipython3",
   "version": "3.10.6"
  },
  "orig_nbformat": 4
 },
 "nbformat": 4,
 "nbformat_minor": 2
}
