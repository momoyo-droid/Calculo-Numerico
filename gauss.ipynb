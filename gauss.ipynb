{
 "cells": [
  {
   "attachments": {},
   "cell_type": "markdown",
   "metadata": {},
   "source": [
    "Este notebook possui o intuito de aplicar os métodos de Gauss em sistemas possíveis e determinados.\n",
    "\n",
    "0. Eliminação de Gauss simples\n",
    "1. Eliminação de Gauss com pivotamento parcial"
   ]
  },
  {
   "attachments": {},
   "cell_type": "markdown",
   "metadata": {},
   "source": [
    "0. Eliminação de Gauss simples"
   ]
  },
  {
   "cell_type": "code",
   "execution_count": 1,
   "metadata": {},
   "outputs": [],
   "source": [
    "def eliminationGauss(A,b):\n",
    "    n = len(b)\n",
    "\n",
    "    # calculo dos pivos\n",
    "    for i in list(range(1,n,1)):\n",
    "        for j in list(range(i+1,n+1,1)):\n",
    "            m = A[j-1][i-1]/A[i-1][i-1]\n",
    "            A[j-1][i-1] = 0\n",
    "            b[j-1] = b[j-1] - m*b[i-1]\n",
    "            for k in list(range(i+1,n+1,1)):\n",
    "                A[j-1][k-1] = A[j-1][k-1] - m*A[i-1][k-1]\n",
    "    return A,b\n"
   ]
  },
  {
   "cell_type": "code",
   "execution_count": 2,
   "metadata": {},
   "outputs": [],
   "source": [
    "def triangular_sup(A, b):\n",
    "    n = len(b)\n",
    "    x = [0]*n\n",
    "    x[n-1] = b[n-1]/A[n-1][n-1]\n",
    "\n",
    "    for i in list(range(n-1,0,-1)):\n",
    "        s = 0\n",
    "        for j in list(range(i+1,n+1,1)):\n",
    "            s = s + A[i-1][j-1]*x[j-1]\n",
    "\n",
    "        x[i-1] = (b[i-1]-s)/(A[i-1][i-1]) \n",
    "\n",
    "    return x"
   ]
  },
  {
   "cell_type": "code",
   "execution_count": 3,
   "metadata": {},
   "outputs": [
    {
     "name": "stdout",
     "output_type": "stream",
     "text": [
      "Matriz triangular superior:\n",
      " [[2, 1, 2], [0, 1.0, -1.0], [0, 0, -5.0]]\n",
      "Vetor b:\n",
      " [-1, 2.0, 5.0]\n",
      "Vetor x:\n",
      " [0.0, 1.0, -1.0]\n"
     ]
    }
   ],
   "source": [
    "def solve(A,b):\n",
    "    U, b = eliminationGauss(A,b)\n",
    "    print(\"Matriz triangular superior:\\n\",U)\n",
    "    print(\"Vetor b:\\n\", b)\n",
    "    x = triangular_sup(U,b)\n",
    "    return x\n",
    "\n",
    "# aplicação do metodo de eliminacao de gauss\n",
    "A = [[2,1,2],\n",
    "     [4,3,3],\n",
    "     [6,5,-1]]\n",
    "b = [-1,0,6]\n",
    "x = solve(A, b)\n",
    "print(\"Vetor x:\\n\", x)"
   ]
  },
  {
   "attachments": {},
   "cell_type": "markdown",
   "metadata": {},
   "source": [
    "1. Eliminação de Gauss com pivotamento parcial"
   ]
  },
  {
   "cell_type": "code",
   "execution_count": 4,
   "metadata": {},
   "outputs": [],
   "source": [
    "# determina o pivo e verifica se houve permutacao das linhas\n",
    "def determinesPivot(k, A, b):\n",
    "    n = len(A)\n",
    "    thereWasExchange = False\n",
    "    pivot = A[k][k]\n",
    "    pivotRow = k\n",
    "    for i in range(k+1,n):\n",
    "        if abs(A[i][k]) > abs(pivot):\n",
    "            pivot = A[i][k]\n",
    "            pivotRow = i\n",
    "    # permutação das linhas\n",
    "    if k != pivotRow:\n",
    "        A[k], A[pivotRow] = A[pivotRow], A[k]\n",
    "        b[k], b[pivotRow] = b[pivotRow], b[k]\n",
    "        thereWasExchange = True\n",
    "    \n",
    "    return thereWasExchange\n"
   ]
  },
  {
   "cell_type": "code",
   "execution_count": 5,
   "metadata": {},
   "outputs": [],
   "source": [
    "def regressiveReplacement(U,b):\n",
    "    n = len(U)\n",
    "    x = n * [0]\n",
    "\n",
    "    for i in range(n-1,-1,-1):\n",
    "        S = 0\n",
    "        for j in range(i+1,n):\n",
    "            S = S + U[i][j] * x[j]\n",
    "        x[i] = (b[i] - S)/U[i][i]\n",
    "\n",
    "    return x\n",
    "\n",
    "def progressiveReplacement(L,b):\n",
    "    n = len(L)\n",
    "    x = n * [0]\n",
    "    for i in range(n):\n",
    "        S = 0\n",
    "        for j in range(0,i):\n",
    "            S = S + L[i][j] * x[j]\n",
    "        x[i] = (b[i] - S)/L[i][i]\n",
    "    return x"
   ]
  },
  {
   "cell_type": "code",
   "execution_count": 6,
   "metadata": {},
   "outputs": [],
   "source": [
    "def gaussPivot(A,b):\n",
    "    n = len(A)\n",
    "    for k in range(n-1):\n",
    "        for i in range(k+1,n):\n",
    "            determinesPivot(k,A,b)\n",
    "            m = - A[i][k]/A[k][k]\n",
    "            for j in range(k+1,n):\n",
    "                A[i][j] = m * A[k][j] + A[i][j]\n",
    "            b[i] = m * b[k] + b[i]\n",
    "            A[i][k] = 0\n",
    "    x = regressiveReplacement(A,b)\n",
    "    return x"
   ]
  },
  {
   "cell_type": "code",
   "execution_count": 7,
   "metadata": {},
   "outputs": [
    {
     "name": "stdout",
     "output_type": "stream",
     "text": [
      "Vetor x:\n",
      " [2.0, 3.0, -5.0]\n"
     ]
    }
   ],
   "source": [
    "A = [[1,1,1],\n",
    "     [1,0,10],\n",
    "     [0,10,1]]\n",
    "b = [0,-48,25]\n",
    "x = gaussPivot(A,b)\n",
    "print(\"Vetor x:\\n\", x)"
   ]
  }
 ],
 "metadata": {
  "kernelspec": {
   "display_name": "Python 3",
   "language": "python",
   "name": "python3"
  },
  "language_info": {
   "codemirror_mode": {
    "name": "ipython",
    "version": 3
   },
   "file_extension": ".py",
   "mimetype": "text/x-python",
   "name": "python",
   "nbconvert_exporter": "python",
   "pygments_lexer": "ipython3",
   "version": "3.10.6"
  },
  "orig_nbformat": 4
 },
 "nbformat": 4,
 "nbformat_minor": 2
}
